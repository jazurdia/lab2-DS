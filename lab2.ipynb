{
 "cells": [
  {
   "cell_type": "markdown",
   "metadata": {},
   "source": [
    "# Laboratorio 2\n",
    "*Ejercicios MINST*\n",
    "\n",
    "Javier Alejandro Azurdia Arrecis | 21242 <br>\n",
    "Diego Alejandro Morales Escobar | 21146\n"
   ]
  },
  {
   "cell_type": "markdown",
   "metadata": {},
   "source": [
    "\n",
    "***1. El ancho (tamaño de la capa escondida) del algoritmo. Intenten con un tamaño de 200.  ¿Cómo cambia la precisión de validación del modelo? ¿Cuánto tiempo se tardó el algoritmo en entrenar? ¿Puede encontrar un tamaño de capa escondida que funcione mejor?***"
   ]
  },
  {
   "cell_type": "markdown",
   "metadata": {},
   "source": [
    "El entrenamiento tarda 8.2 segundos en vez de los 4.9 segundos con un tamaño de capa escondida de 200. La precisión de validación del modelo es de 97%, lo que representa una mejora del 1% en comparación con el modelo con un tamaño de capa escondida de 50.\n",
    "\n",
    "Se realizó una prueba con un tamaño de capa escondida de 500 y uno con 10000. El primero no evidenció una mejora significativa en la precisión de validación, mientras que el segundo no pudo ser ejecutado debido a que el kernel se reinició."
   ]
  },
  {
   "cell_type": "markdown",
   "metadata": {},
   "source": [
    "***2. La profundidad del algoritmo. Agreguen una capa escondida más al algoritmo. Este es un ejercicio extremadamente importante! ¿Cómo cambia la precisión de validación? ¿Qué hay del tiempo que se tarda en ejecutar? Pista: deben tener cuidado con las formas (dimensiones) de los pesos y los sesgos***"
   ]
  },
  {
   "cell_type": "markdown",
   "metadata": {},
   "source": [
    "Con un tamaño de capa escondida de 200 y una capa escondida más (tres capas) en el algorimto, la precisión de validación del modelo es de 97%, es decir, no cambia significativamente en comparación con dos capas escondidas. \n",
    "\n",
    "El tiempo de entrenamiento es de 8.6 segundos, por lo que es mas lento que con dos capas escondidas.\n"
   ]
  },
  {
   "cell_type": "markdown",
   "metadata": {},
   "source": [
    "***3. El ancho y la profundidad del algoritmo.  Agregue cuantas capas sean necesarias para llegar a 5 capas escondidas.  Es más, ajusten el ancho del algoritmo conforme lo encuentre más conveniente.  ¿Cómo cambia la precisión de validación? ¿Qué hay del tiempo de ejecución?***"
   ]
  },
  {
   "cell_type": "markdown",
   "metadata": {},
   "source": [
    "Se modificó el ancho de la capa escondida a 300 y se agregaron capas hasta llegar a 5 capas escondidas. La precisión de validación del modelo es de 97%, es decir, no cambia significativamente en comparación con dos capas escondidas. En cuanto al timepo de ejecución del entrenamiento, es de 14 segundos. Esto evidencia una mayor complejidad al agregar mas capas escondidas y una mayor profunidad para cada uno. "
   ]
  },
  {
   "cell_type": "markdown",
   "metadata": {},
   "source": [
    "***4. Experimenten con las funciones de activación.  Intenten aplicar una transformación sigmoidal a ambas capas.  La activación sigmoidal se obtiene escribiendo “sigmoid”  (Ojo, hay que verificar si en las versiones más recientes de Tensorflow sigue siendo así)***"
   ]
  },
  {
   "cell_type": "markdown",
   "metadata": {},
   "source": [
    "AL aplicar la transformación sigmoidal, se encontró una presición menor a la anterior, con un valor de 95%. El tiempo de ejecución fue de 15 segundos, lo que representa un aumento en comparación con la función de activación ReLU."
   ]
  },
  {
   "cell_type": "markdown",
   "metadata": {},
   "source": [
    "***5. Continúen experimentando con las funciones de activación.  Intenten aplicar un ReLu a la primera capa escondida y tanh a la segunda.  La activación tanh se obtiene escribiendo “tanh”. (Ojo, hay que verificar si en las versiones más recientes de Tensorflow sigue siendo as***"
   ]
  },
  {
   "cell_type": "markdown",
   "metadata": {},
   "source": [
    "Se elimnaron las tres capas escondidas restantes y se aplicaron los cambios. El modelo mejoro, con una presición del 98% y un tiempo de ejecución de 9.5 segundos. "
   ]
  },
  {
   "cell_type": "markdown",
   "metadata": {},
   "source": [
    "***6. Ajusten el tamaño de la tanda.  Prueben con un tamaño de tanda de 10,000. ¿Cómo cambia el tiempo requerido?  ¿Cómo cambia la precisión?***"
   ]
  },
  {
   "cell_type": "markdown",
   "metadata": {},
   "source": [
    "El tiempo requerido disminuyo significativamente (de 9.5 segundo a 3.3 segundos), pero la presicion, que anteriormente era de 98%, se vió afectada negativamente, teniendo como resultado un 76%. "
   ]
  },
  {
   "cell_type": "markdown",
   "metadata": {},
   "source": [
    "***7. Ajusten el tamaño de la tanda a 1. Eso corresponde al SGD. ¿Cómo cambian el tiempo y la precisión? ¿Es el resultado coherente con la teoría?***"
   ]
  },
  {
   "cell_type": "markdown",
   "metadata": {},
   "source": [
    "El tiempo de ejecución se incrementó de manera abrupta, con 8 min 54 s de tiempo de ejecución. La precisión no cambió tanto, teniendo un resultado de 97.20% de presición. "
   ]
  },
  {
   "cell_type": "markdown",
   "metadata": {},
   "source": [
    "***8. Ajusten la tasa de aprendizaje. Prueben con un valor de 0.0001. ¿Hace alguna diferencia?*** \n"
   ]
  },
  {
   "cell_type": "markdown",
   "metadata": {},
   "source": [
    "Al poner un learning rate de 0.00001, la presición es de 89.53%"
   ]
  },
  {
   "cell_type": "markdown",
   "metadata": {},
   "source": [
    "***9. Ajusten la tasa de aprendizaje a 0.02. ¿Hay alguna diferencia?***"
   ]
  },
  {
   "cell_type": "markdown",
   "metadata": {},
   "source": [
    "Al poner un learniung rate de 0.02, se obtuvo una presición de 89.64%"
   ]
  },
  {
   "cell_type": "markdown",
   "metadata": {},
   "source": [
    "***10. Combinen todos los métodos indicados arriba e intenten llegar a una precisión de validación de 98.5% o más.***"
   ]
  },
  {
   "cell_type": "markdown",
   "metadata": {},
   "source": [
    "Con los siguientes parametros: \n",
    "- Tamaño de tanda: 300\n",
    "- Learning Rate: 0.0009\n",
    "- Epocas: 30\n",
    "- Tamaño de capa escondida: 400\n",
    "\n",
    "Se llegó a una precisión máxima de 98.40%, por lo quie no se pude llegar al 98.5%. "
   ]
  }
 ],
 "metadata": {
  "kernelspec": {
   "display_name": "python3_8",
   "language": "python",
   "name": "python3"
  },
  "language_info": {
   "name": "python",
   "version": "3.8.19"
  }
 },
 "nbformat": 4,
 "nbformat_minor": 2
}
