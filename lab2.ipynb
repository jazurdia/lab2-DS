{
 "cells": [
  {
   "cell_type": "markdown",
   "metadata": {},
   "source": [
    "# Laboratorio 2\n",
    "*Ejercicios MINST*\n",
    "\n",
    "Javier Alejandro Azurdia Arrecis | 21242 <br>\n",
    "Diego Alejandro Morales Escobar | 21146\n"
   ]
  },
  {
   "cell_type": "markdown",
   "metadata": {},
   "source": [
    "\n",
    "***El ancho (tamaño de la capa escondida) del algoritmo. Intenten con un tamaño de 200.  ¿Cómo cambia la precisión de validación del modelo? ¿Cuánto tiempo se tardó el algoritmo en entrenar? ¿Puede encontrar un tamaño de capa escondida que funcione mejor?***"
   ]
  },
  {
   "cell_type": "markdown",
   "metadata": {},
   "source": [
    "El entrenamiento tarda 8.2 segundos en vez de los 4.9 segundos con un tamaño de capa escondida de 200. La precisión de validación del modelo es de 97%, lo que representa una mejora del 1% en comparación con el modelo con un tamaño de capa escondida de 50.\n",
    "\n",
    "Se realizó una prueba con un tamaño de capa escondida de 500 y uno con 10000. El primero no evidenció una mejora significativa en la precisión de validación, mientras que el segundo no pudo ser ejecutado debido a que el kernel se reinició."
   ]
  },
  {
   "cell_type": "markdown",
   "metadata": {},
   "source": [
    "***La profundidad del algoritmo. Agreguen una capa escondida más al algoritmo. Este es un ejercicio extremadamente importante! ¿Cómo cambia la precisión de validación? ¿Qué hay del tiempo que se tarda en ejecutar? Pista: deben tener cuidado con las formas (dimensiones) de los pesos y los sesgos***"
   ]
  },
  {
   "cell_type": "markdown",
   "metadata": {},
   "source": [
    "Con un tamaño de capa escondida de 200 y una capa escondida más (tres capas) en el algorimto, la precisión de validación del modelo es de 97%, es decir, no cambia significativamente en comparación con dos capas escondidas. \n",
    "\n",
    "El tiempo de entrenamiento es de 8.6 segundos, por lo que es mas lento que con dos capas escondidas.\n"
   ]
  },
  {
   "cell_type": "markdown",
   "metadata": {},
   "source": []
  }
 ],
 "metadata": {
  "language_info": {
   "name": "python"
  }
 },
 "nbformat": 4,
 "nbformat_minor": 2
}
